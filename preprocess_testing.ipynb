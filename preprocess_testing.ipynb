{
 "cells": [
  {
   "cell_type": "code",
   "execution_count": 2,
   "id": "initial_id",
   "metadata": {
    "collapsed": true,
    "ExecuteTime": {
     "end_time": "2024-05-09T13:14:23.218344Z",
     "start_time": "2024-05-09T13:14:22.835146Z"
    }
   },
   "outputs": [
    {
     "name": "stderr",
     "output_type": "stream",
     "text": [
      "[nltk_data] Downloading package stopwords to\n",
      "[nltk_data]     /Users/brogan/nltk_data...\n",
      "[nltk_data]   Package stopwords is already up-to-date!\n"
     ]
    }
   ],
   "source": [
    "import re, string, json, time\n",
    "import pandas as pd\n",
    "import numpy as np\n",
    "import seaborn as sns\n",
    "import matplotlib.pyplot as plt\n",
    "from joblib import dump, load\n",
    "from pathlib import Path\n",
    "from flask import Flask, jsonify, request\n",
    "\n",
    "from progress.bar import *\n",
    "from progress.spinner import *\n",
    "\n",
    "from sklearn.model_selection import train_test_split\n",
    "from sklearn.metrics import accuracy_score, classification_report\n",
    "from sklearn.feature_extraction.text import TfidfVectorizer\n",
    "from sklearn.linear_model import LogisticRegression\n",
    "from sklearn.tree import DecisionTreeClassifier\n",
    "from sklearn.ensemble import GradientBoostingClassifier\n",
    "from sklearn.ensemble import RandomForestClassifier\n",
    "\n",
    "import nltk\n",
    "nltk.download('stopwords')\n",
    "from nltk.corpus import stopwords\n",
    "from textblob import Word"
   ]
  },
  {
   "cell_type": "code",
   "outputs": [
    {
     "name": "stdout",
     "output_type": "stream",
     "text": [
      "rock jasdf sodHHHas 1299 .^\n"
     ]
    }
   ],
   "source": [
    "#lowercase, remove([^\\w\\s]), remove(\\d), remove(stopwords), Word(word).lemmatize() for word in news, remove(r'http\\S+')\n",
    "news = \"rocks jasdf sodHHHas 1299 .^\\n\"\n",
    "news = news.lower()\n",
    "news = news.replace('[^\\w\\s]', '')\n",
    "news = news.replace(r'\\d', '')\n",
    "\n",
    "stop_words = set(stopwords.words('english'))  # get english stopwords\n",
    "punctuation = list(string.punctuation)  # get punc\n",
    "stop_words.update(punctuation)\n",
    "news = ' '.join([word for word in news.split() if word not in stop_words])\n",
    "news = ' '.join([Word(word).lemmatize() for word in news.split() ])\n",
    "news = news.replace(r'http\\S+', '')\n",
    "\n",
    "print(news)"
   ],
   "metadata": {
    "collapsed": false,
    "ExecuteTime": {
     "end_time": "2024-05-09T00:21:46.254953Z",
     "start_time": "2024-05-09T00:21:46.251904Z"
    }
   },
   "id": "ea26847ab84e266",
   "execution_count": 18
  },
  {
   "cell_type": "code",
   "outputs": [
    {
     "data": {
      "text/plain": "       Unnamed: 0                                               text\n0               0  No comment is expected from Barack Obama Membe...\n2               2   Now, most of the demonstrators gathered last ...\n3               3  A dozen politically active pastors came here f...\n4               4  The RS-28 Sarmat missile, dubbed Satan 2, will...\n5               5  All we can say on this one is it s about time ...\n...           ...                                                ...\n72129       72129  WASHINGTON (Reuters) - Hackers believed to be ...\n72130       72130  You know, because in fantasyland Republicans n...\n72131       72131  Migrants Refuse To Leave Train At Refugee Camp...\n72132       72132  MEXICO CITY (Reuters) - Donald Trump’s combati...\n72133       72133  Goldman Sachs Endorses Hillary Clinton For Pre...\n\n[71537 rows x 2 columns]",
      "text/html": "<div>\n<style scoped>\n    .dataframe tbody tr th:only-of-type {\n        vertical-align: middle;\n    }\n\n    .dataframe tbody tr th {\n        vertical-align: top;\n    }\n\n    .dataframe thead th {\n        text-align: right;\n    }\n</style>\n<table border=\"1\" class=\"dataframe\">\n  <thead>\n    <tr style=\"text-align: right;\">\n      <th></th>\n      <th>Unnamed: 0</th>\n      <th>text</th>\n    </tr>\n  </thead>\n  <tbody>\n    <tr>\n      <th>0</th>\n      <td>0</td>\n      <td>No comment is expected from Barack Obama Membe...</td>\n    </tr>\n    <tr>\n      <th>2</th>\n      <td>2</td>\n      <td>Now, most of the demonstrators gathered last ...</td>\n    </tr>\n    <tr>\n      <th>3</th>\n      <td>3</td>\n      <td>A dozen politically active pastors came here f...</td>\n    </tr>\n    <tr>\n      <th>4</th>\n      <td>4</td>\n      <td>The RS-28 Sarmat missile, dubbed Satan 2, will...</td>\n    </tr>\n    <tr>\n      <th>5</th>\n      <td>5</td>\n      <td>All we can say on this one is it s about time ...</td>\n    </tr>\n    <tr>\n      <th>...</th>\n      <td>...</td>\n      <td>...</td>\n    </tr>\n    <tr>\n      <th>72129</th>\n      <td>72129</td>\n      <td>WASHINGTON (Reuters) - Hackers believed to be ...</td>\n    </tr>\n    <tr>\n      <th>72130</th>\n      <td>72130</td>\n      <td>You know, because in fantasyland Republicans n...</td>\n    </tr>\n    <tr>\n      <th>72131</th>\n      <td>72131</td>\n      <td>Migrants Refuse To Leave Train At Refugee Camp...</td>\n    </tr>\n    <tr>\n      <th>72132</th>\n      <td>72132</td>\n      <td>MEXICO CITY (Reuters) - Donald Trump’s combati...</td>\n    </tr>\n    <tr>\n      <th>72133</th>\n      <td>72133</td>\n      <td>Goldman Sachs Endorses Hillary Clinton For Pre...</td>\n    </tr>\n  </tbody>\n</table>\n<p>71537 rows × 2 columns</p>\n</div>"
     },
     "execution_count": 14,
     "metadata": {},
     "output_type": "execute_result"
    }
   ],
   "source": [
    "df_test = pd.read_csv(\"data/orig/WELFake_Dataset.csv\")\n",
    "df_test.drop_duplicates(inplace = True)\n",
    "df_test.dropna(inplace = True)\n",
    "df_test['text'] = df_test['text'] + \" \" + df_test['title']\n",
    "df_test.drop(['label', 'title'], axis=1, inplace=True)\n",
    "df_test"
   ],
   "metadata": {
    "collapsed": false,
    "ExecuteTime": {
     "end_time": "2024-05-09T13:19:52.289281Z",
     "start_time": "2024-05-09T13:19:50.502024Z"
    }
   },
   "id": "6162880a69b5db7b",
   "execution_count": 14
  }
 ],
 "metadata": {
  "kernelspec": {
   "display_name": "Python 3",
   "language": "python",
   "name": "python3"
  },
  "language_info": {
   "codemirror_mode": {
    "name": "ipython",
    "version": 2
   },
   "file_extension": ".py",
   "mimetype": "text/x-python",
   "name": "python",
   "nbconvert_exporter": "python",
   "pygments_lexer": "ipython2",
   "version": "2.7.6"
  }
 },
 "nbformat": 4,
 "nbformat_minor": 5
}
