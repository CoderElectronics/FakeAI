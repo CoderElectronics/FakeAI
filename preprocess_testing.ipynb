{
 "cells": [
  {
   "cell_type": "code",
   "execution_count": 1,
   "id": "initial_id",
   "metadata": {
    "collapsed": true,
    "ExecuteTime": {
     "end_time": "2024-05-09T00:11:40.804956Z",
     "start_time": "2024-05-09T00:11:40.416233Z"
    }
   },
   "outputs": [
    {
     "name": "stderr",
     "output_type": "stream",
     "text": [
      "[nltk_data] Downloading package stopwords to\n",
      "[nltk_data]     /Users/brogan/nltk_data...\n",
      "[nltk_data]   Package stopwords is already up-to-date!\n"
     ]
    }
   ],
   "source": [
    "import re, string, json, time\n",
    "import pandas as pd\n",
    "import numpy as np\n",
    "import seaborn as sns\n",
    "import matplotlib.pyplot as plt\n",
    "from joblib import dump, load\n",
    "from pathlib import Path\n",
    "from flask import Flask, jsonify, request\n",
    "\n",
    "from progress.bar import *\n",
    "from progress.spinner import *\n",
    "\n",
    "from sklearn.model_selection import train_test_split\n",
    "from sklearn.metrics import accuracy_score, classification_report\n",
    "from sklearn.feature_extraction.text import TfidfVectorizer\n",
    "from sklearn.linear_model import LogisticRegression\n",
    "from sklearn.tree import DecisionTreeClassifier\n",
    "from sklearn.ensemble import GradientBoostingClassifier\n",
    "from sklearn.ensemble import RandomForestClassifier\n",
    "\n",
    "import nltk\n",
    "nltk.download('stopwords')\n",
    "from nltk.corpus import stopwords\n",
    "from textblob import Word"
   ]
  },
  {
   "cell_type": "code",
   "outputs": [
    {
     "name": "stdout",
     "output_type": "stream",
     "text": [
      "rock jasdf sodHHHas 1299 .^\n"
     ]
    }
   ],
   "source": [
    "#lowercase, remove([^\\w\\s]), remove(\\d), remove(stopwords), Word(word).lemmatize() for word in news, remove(r'http\\S+')\n",
    "news = \"rocks jasdf sodHHHas 1299 .^\\n\"\n",
    "news.lower()\n",
    "news = news.replace('[^\\w\\s]', '')\n",
    "news = news.replace(r'\\d', '')\n",
    "\n",
    "stop_words = set(stopwords.words('english'))  # get english stopwords\n",
    "punctuation = list(string.punctuation)  # get punc\n",
    "stop_words.update(punctuation)\n",
    "news = ' '.join([word for word in news.split() if word not in stop_words])\n",
    "news = ' '.join([Word(word).lemmatize() for word in news.split() ])\n",
    "news = news.replace(r'http\\S+', '')\n",
    "\n",
    "print(news)"
   ],
   "metadata": {
    "collapsed": false,
    "ExecuteTime": {
     "end_time": "2024-05-09T00:21:46.254953Z",
     "start_time": "2024-05-09T00:21:46.251904Z"
    }
   },
   "id": "ea26847ab84e266",
   "execution_count": 18
  }
 ],
 "metadata": {
  "kernelspec": {
   "display_name": "Python 3",
   "language": "python",
   "name": "python3"
  },
  "language_info": {
   "codemirror_mode": {
    "name": "ipython",
    "version": 2
   },
   "file_extension": ".py",
   "mimetype": "text/x-python",
   "name": "python",
   "nbconvert_exporter": "python",
   "pygments_lexer": "ipython2",
   "version": "2.7.6"
  }
 },
 "nbformat": 4,
 "nbformat_minor": 5
}
